{
  "nbformat": 4,
  "nbformat_minor": 0,
  "metadata": {
    "colab": {
      "provenance": [],
      "gpuType": "T4"
    },
    "kernelspec": {
      "name": "python3",
      "display_name": "Python 3"
    },
    "language_info": {
      "name": "python"
    },
    "accelerator": "GPU"
  },
  "cells": [
    {
      "cell_type": "code",
      "execution_count": 1,
      "metadata": {
        "colab": {
          "base_uri": "https://localhost:8080/"
        },
        "id": "i27cDtGVsIJi",
        "outputId": "460b25fa-7272-47f5-82a9-1a42e13fb109"
      },
      "outputs": [
        {
          "output_type": "stream",
          "name": "stdout",
          "text": [
            "Cloning into 'Fraud_detection'...\n",
            "remote: Enumerating objects: 61, done.\u001b[K\n",
            "remote: Counting objects: 100% (61/61), done.\u001b[K\n",
            "remote: Compressing objects: 100% (48/48), done.\u001b[K\n",
            "remote: Total 61 (delta 10), reused 48 (delta 3), pack-reused 0 (from 0)\u001b[K\n",
            "Receiving objects: 100% (61/61), 537.87 KiB | 8.27 MiB/s, done.\n",
            "Resolving deltas: 100% (10/10), done.\n"
          ]
        }
      ],
      "source": [
        "!git clone https://github.com/Absurdikez/Fraud_detection.git"
      ]
    },
    {
      "cell_type": "code",
      "source": [
        "!cd Fraud_detection"
      ],
      "metadata": {
        "id": "dSqYAiGesTwb"
      },
      "execution_count": 2,
      "outputs": []
    },
    {
      "cell_type": "code",
      "source": [
        "!python3 Fraud_detection/main.py --data_path \"/content/drive/MyDrive/Colab Notebooks/AA_UseCase_Data.zip\" \\\n",
        "                 --model_type \"random_forest\" \\\n",
        "                 --output_dir \"/content/output\" \\\n",
        "                 --fast_mode"
      ],
      "metadata": {
        "colab": {
          "base_uri": "https://localhost:8080/"
        },
        "id": "DDhrfHq4sWAA",
        "outputId": "e9318f05-3082-40d1-c0c2-a9684b2295f9"
      },
      "execution_count": 6,
      "outputs": [
        {
          "output_type": "stream",
          "name": "stdout",
          "text": [
            "📊 Loading and preprocessing data...\n",
            "🔧 Engineering features...\n",
            "📈 Performing exploratory analysis...\n",
            "EDA visualizations saved to /content/output/eda/\n",
            "🔪 Splitting data into train/test sets...\n",
            "⚖️ Applying SMOTE to balance training data...\n",
            "🤖 Creating random_forest model...\n",
            "🏋️‍♀️ Training model with hyperparameter tuning...\n",
            "\n",
            "🔹 random_forest - Training model...\n",
            "\n",
            "\n",
            "✅ Training complete! Total time: 819.83 seconds\n",
            "Best parameters: {'max_depth': 10, 'n_estimators': 100}\n",
            "\n",
            "Model saved as '/content/output/random_forest_model.pkl'\n",
            "🔮 Making predictions...\n",
            "💰 Finding optimal classification threshold...\n",
            "\n",
            "Optimal threshold analysis saved as 'optimal_threshold.png'\n",
            "Optimal threshold: 0.5500\n",
            "📊 Evaluating model performance...\n",
            "\n",
            "==================================================\n",
            "Model Evaluation: random_forest\n",
            "==================================================\n",
            "\n",
            "Training Metrics:\n",
            "Accuracy:  1.0000\n",
            "Precision: 1.0000\n",
            "Recall:    1.0000\n",
            "F1 Score:  1.0000\n",
            "\n",
            "Test Metrics:\n",
            "Accuracy:  1.0000\n",
            "Precision: 1.0000\n",
            "Recall:    1.0000\n",
            "F1 Score:  1.0000\n",
            "ROC AUC:   1.0000\n",
            "PR AUC:    1.0000\n",
            "\n",
            "Confusion Matrix:\n",
            "                 Predicted\n",
            "                 Negative  Positive\n",
            "Actual Negative   474525    0       \n",
            "Actual Positive   0         36      \n",
            "\n",
            "Financial Impact Analysis:\n",
            "Total Fraud Amount:        $125575527.68\n",
            "Detected Fraud Amount:     $125575527.68 (100.00%)\n",
            "Missed Fraud Amount:       $0.00 (0.00%)\n",
            "False Positive Amount:     $0.00\n",
            "\n",
            "Estimated Impact:\n",
            "Investigation Costs:       $1800.00\n",
            "Potential Recovery:        $87902869.38\n",
            "Net Benefit:               $87901069.38\n",
            "\n",
            "Evaluation curves saved as 'random_forest_curves.png'\n",
            "\n",
            "Feature importance plot saved as 'random_forest_feature_importance.png'\n",
            "\n",
            "Analysis of Classification Results:\n",
            "\n",
            "True Positives:\n",
            "  Count:       36\n",
            "  Mean Amount: $3488209.10\n",
            "  Std Amount:  $2275027.67\n",
            "  Min Amount:  $186001.22\n",
            "  Max Amount:  $10231760.63\n",
            "\n",
            "False Positives:\n",
            "  Count:       0\n",
            "  Mean Amount: $0.00\n",
            "  Std Amount:  $0.00\n",
            "  Min Amount:  $0.00\n",
            "  Max Amount:  $0.00\n",
            "\n",
            "True Negatives:\n",
            "  Count:       474525\n",
            "  Mean Amount: $145192.68\n",
            "  Std Amount:  $309705.65\n",
            "  Min Amount:  $0.86\n",
            "  Max Amount:  $13270553.08\n",
            "\n",
            "False Negatives:\n",
            "  Count:       0\n",
            "  Mean Amount: $0.00\n",
            "  Std Amount:  $0.00\n",
            "  Min Amount:  $0.00\n",
            "  Max Amount:  $0.00\n",
            "\n",
            "Misclassification analysis plot saved as 'misclassification_analysis.png'\n",
            "\n",
            "Financial Impact Summary:\n",
            "  - Fraud amount detected: $125575527.68 (100.00%)\n",
            "  - Fraud amount missed: $0.00 (0.00%)\n",
            "  - False alarm amount: $0.00 (0.0000%)\n",
            "\n",
            "✅ Project execution complete! Results saved to /content/output/\n"
          ]
        }
      ]
    },
    {
      "source": [],
      "cell_type": "code",
      "metadata": {
        "id": "BFklDurvz5if"
      },
      "execution_count": 7,
      "outputs": []
    }
  ]
}